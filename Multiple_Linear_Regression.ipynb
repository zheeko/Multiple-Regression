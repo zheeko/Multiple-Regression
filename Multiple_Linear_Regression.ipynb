{
 "cells": [
  {
   "cell_type": "code",
   "execution_count": 1,
   "id": "d30ad557-89c0-40a6-82f0-eb417b6ffb27",
   "metadata": {},
   "outputs": [
    {
     "data": {
      "text/plain": [
       "'C:\\\\Users\\\\ISAAC'"
      ]
     },
     "execution_count": 1,
     "metadata": {},
     "output_type": "execute_result"
    }
   ],
   "source": [
    "# packages for analysis \n",
    "import pandas as pd\n",
    "import numpy as np\n",
    "from sklearn.linear_model import LinearRegression\n",
    "from sklearn.model_selection import train_test_split\n",
    "\n",
    "#package for visual\n",
    "import matplotlib.pyplot as plt\n",
    "import matplotlib.style\n",
    "plt.style.use('classic')\n",
    "import seaborn as sns\n",
    "\n",
    "#Allows charts to appear in the notebook\n",
    "%matplotlib inline\n",
    "\n",
    "#pickle package\n",
    "import pickle\n",
    "\n",
    "# operating system\n",
    "import os\n",
    "os.getcwd()"
   ]
  },
  {
   "cell_type": "code",
   "execution_count": 187,
   "id": "e88de1af-885b-4b86-b90a-d05365a6d105",
   "metadata": {},
   "outputs": [],
   "source": [
    "# Reading data from excel  \"sp=students performance\"\n",
    "HR=pd.read_excel(\"HR Employee Dataset.xlsx\")"
   ]
  },
  {
   "cell_type": "code",
   "execution_count": 188,
   "id": "a72dd6fd-6f8e-437a-818e-cf9605f8958c",
   "metadata": {},
   "outputs": [
    {
     "data": {
      "text/html": [
       "<div>\n",
       "<style scoped>\n",
       "    .dataframe tbody tr th:only-of-type {\n",
       "        vertical-align: middle;\n",
       "    }\n",
       "\n",
       "    .dataframe tbody tr th {\n",
       "        vertical-align: top;\n",
       "    }\n",
       "\n",
       "    .dataframe thead th {\n",
       "        text-align: right;\n",
       "    }\n",
       "</style>\n",
       "<table border=\"1\" class=\"dataframe\">\n",
       "  <thead>\n",
       "    <tr style=\"text-align: right;\">\n",
       "      <th></th>\n",
       "      <th>Age</th>\n",
       "      <th>Education_Level</th>\n",
       "      <th>No_Companies_Worked</th>\n",
       "      <th>Total_Working_Years</th>\n",
       "      <th>Years_At_Company</th>\n",
       "      <th>Monthly_Income</th>\n",
       "    </tr>\n",
       "  </thead>\n",
       "  <tbody>\n",
       "    <tr>\n",
       "      <th>0</th>\n",
       "      <td>41</td>\n",
       "      <td>HND</td>\n",
       "      <td>8</td>\n",
       "      <td>8</td>\n",
       "      <td>6</td>\n",
       "      <td>5993</td>\n",
       "    </tr>\n",
       "    <tr>\n",
       "      <th>1</th>\n",
       "      <td>49</td>\n",
       "      <td>MSc</td>\n",
       "      <td>1</td>\n",
       "      <td>10</td>\n",
       "      <td>10</td>\n",
       "      <td>5130</td>\n",
       "    </tr>\n",
       "    <tr>\n",
       "      <th>2</th>\n",
       "      <td>37</td>\n",
       "      <td>HND</td>\n",
       "      <td>6</td>\n",
       "      <td>7</td>\n",
       "      <td>0</td>\n",
       "      <td>2090</td>\n",
       "    </tr>\n",
       "    <tr>\n",
       "      <th>3</th>\n",
       "      <td>33</td>\n",
       "      <td>MSc</td>\n",
       "      <td>1</td>\n",
       "      <td>8</td>\n",
       "      <td>8</td>\n",
       "      <td>2909</td>\n",
       "    </tr>\n",
       "    <tr>\n",
       "      <th>4</th>\n",
       "      <td>27</td>\n",
       "      <td>OND</td>\n",
       "      <td>9</td>\n",
       "      <td>6</td>\n",
       "      <td>2</td>\n",
       "      <td>3468</td>\n",
       "    </tr>\n",
       "  </tbody>\n",
       "</table>\n",
       "</div>"
      ],
      "text/plain": [
       "   Age Education_Level  No_Companies_Worked  Total_Working_Years  \\\n",
       "0   41             HND                    8                    8   \n",
       "1   49             MSc                    1                   10   \n",
       "2   37             HND                    6                    7   \n",
       "3   33             MSc                    1                    8   \n",
       "4   27             OND                    9                    6   \n",
       "\n",
       "   Years_At_Company  Monthly_Income  \n",
       "0                 6            5993  \n",
       "1                10            5130  \n",
       "2                 0            2090  \n",
       "3                 8            2909  \n",
       "4                 2            3468  "
      ]
     },
     "execution_count": 188,
     "metadata": {},
     "output_type": "execute_result"
    }
   ],
   "source": [
    "HR.head()   # MSc=1, BSc=2, HND=3, OND=4"
   ]
  },
  {
   "cell_type": "code",
   "execution_count": 189,
   "id": "f224e457-2b78-41be-9f22-8d437b556344",
   "metadata": {},
   "outputs": [
    {
     "data": {
      "text/html": [
       "<div>\n",
       "<style scoped>\n",
       "    .dataframe tbody tr th:only-of-type {\n",
       "        vertical-align: middle;\n",
       "    }\n",
       "\n",
       "    .dataframe tbody tr th {\n",
       "        vertical-align: top;\n",
       "    }\n",
       "\n",
       "    .dataframe thead th {\n",
       "        text-align: right;\n",
       "    }\n",
       "</style>\n",
       "<table border=\"1\" class=\"dataframe\">\n",
       "  <thead>\n",
       "    <tr style=\"text-align: right;\">\n",
       "      <th></th>\n",
       "      <th>Age</th>\n",
       "      <th>Education_Level</th>\n",
       "      <th>No_Companies_Worked</th>\n",
       "      <th>Total_Working_Years</th>\n",
       "      <th>Years_At_Company</th>\n",
       "      <th>Monthly_Income</th>\n",
       "    </tr>\n",
       "  </thead>\n",
       "  <tbody>\n",
       "    <tr>\n",
       "      <th>111</th>\n",
       "      <td>29</td>\n",
       "      <td>MSc</td>\n",
       "      <td>1</td>\n",
       "      <td>10</td>\n",
       "      <td>10</td>\n",
       "      <td>9980</td>\n",
       "    </tr>\n",
       "    <tr>\n",
       "      <th>112</th>\n",
       "      <td>32</td>\n",
       "      <td>HND</td>\n",
       "      <td>0</td>\n",
       "      <td>7</td>\n",
       "      <td>6</td>\n",
       "      <td>3298</td>\n",
       "    </tr>\n",
       "    <tr>\n",
       "      <th>113</th>\n",
       "      <td>22</td>\n",
       "      <td>HND</td>\n",
       "      <td>1</td>\n",
       "      <td>1</td>\n",
       "      <td>1</td>\n",
       "      <td>2935</td>\n",
       "    </tr>\n",
       "    <tr>\n",
       "      <th>114</th>\n",
       "      <td>53</td>\n",
       "      <td>MSc</td>\n",
       "      <td>2</td>\n",
       "      <td>31</td>\n",
       "      <td>25</td>\n",
       "      <td>15427</td>\n",
       "    </tr>\n",
       "    <tr>\n",
       "      <th>115</th>\n",
       "      <td>30</td>\n",
       "      <td>OND</td>\n",
       "      <td>1</td>\n",
       "      <td>1</td>\n",
       "      <td>1</td>\n",
       "      <td>2693</td>\n",
       "    </tr>\n",
       "  </tbody>\n",
       "</table>\n",
       "</div>"
      ],
      "text/plain": [
       "     Age Education_Level  No_Companies_Worked  Total_Working_Years  \\\n",
       "111   29             MSc                    1                   10   \n",
       "112   32             HND                    0                    7   \n",
       "113   22             HND                    1                    1   \n",
       "114   53             MSc                    2                   31   \n",
       "115   30             OND                    1                    1   \n",
       "\n",
       "     Years_At_Company  Monthly_Income  \n",
       "111                10            9980  \n",
       "112                 6            3298  \n",
       "113                 1            2935  \n",
       "114                25           15427  \n",
       "115                 1            2693  "
      ]
     },
     "execution_count": 189,
     "metadata": {},
     "output_type": "execute_result"
    }
   ],
   "source": [
    "HR.tail()"
   ]
  },
  {
   "cell_type": "code",
   "execution_count": 208,
   "id": "7b679f1f-4a23-4f43-a7a2-e8b176c2851a",
   "metadata": {},
   "outputs": [],
   "source": [
    "HR.Education_Level.replace(['OND', 'HND', 'BSc', 'MSc'], ['4', '3','2', '1'], inplace=True)"
   ]
  },
  {
   "cell_type": "code",
   "execution_count": 210,
   "id": "24c3865f-8ca2-48cb-b5a3-7176287c782d",
   "metadata": {},
   "outputs": [
    {
     "name": "stdout",
     "output_type": "stream",
     "text": [
      "<class 'pandas.core.frame.DataFrame'>\n",
      "RangeIndex: 116 entries, 0 to 115\n",
      "Data columns (total 6 columns):\n",
      " #   Column               Non-Null Count  Dtype  \n",
      "---  ------               --------------  -----  \n",
      " 0   Age                  116 non-null    int64  \n",
      " 1   Education_Level      116 non-null    object \n",
      " 2   No_Companies_Worked  116 non-null    int64  \n",
      " 3   Total_Working_Years  116 non-null    int64  \n",
      " 4   Years_At_Company     116 non-null    int64  \n",
      " 5   Monthly_Income       116 non-null    float64\n",
      "dtypes: float64(1), int64(4), object(1)\n",
      "memory usage: 5.6+ KB\n"
     ]
    }
   ],
   "source": [
    " HR.info() # Checking missing data"
   ]
  },
  {
   "cell_type": "code",
   "execution_count": 194,
   "id": "b2c75d63-c3c1-44c9-ad6d-8194a43ac505",
   "metadata": {},
   "outputs": [
    {
     "name": "stdout",
     "output_type": "stream",
     "text": [
      "1487.1296470449015\n",
      "7101.112190345311\n"
     ]
    }
   ],
   "source": [
    "#treating Outliers (capping and flooring)\n",
    "\n",
    "lower_limit = HR['Monthly_Income'].mean()-1*HR['Monthly_Income'].std()\n",
    "print(lower_limit)\n",
    "\n",
    "upper_limit = HR['Monthly_Income'].mean() + 1*HR['Monthly_Income'].std()\n",
    "print(upper_limit)"
   ]
  },
  {
   "cell_type": "code",
   "execution_count": 195,
   "id": "850b7122-70f0-48d6-b508-ebfef3afb9b2",
   "metadata": {},
   "outputs": [],
   "source": [
    "HR['Monthly_Income']=np.where(HR['Monthly_Income'] > upper_limit,                        \n",
    "upper_limit, np.where(HR['Monthly_Income']<lower_limit,\n",
    "lower_limit, HR['Monthly_Income']))"
   ]
  },
  {
   "cell_type": "code",
   "execution_count": 196,
   "id": "15232a5b-1764-45b1-a106-a197e539266f",
   "metadata": {},
   "outputs": [
    {
     "data": {
      "image/png": "[encoded data removed]",
      "text/plain": [
       "<Figure size 432x360 with 1 Axes>"
      ]
     },
     "metadata": {
      "needs_background": "light"
     },
     "output_type": "display_data"
    }
   ],
   "source": [
    "# Outlier Checks\n",
    "plt.figure(figsize=(6,5))\n",
    "HR.boxplot(vert=0)\n",
    "plt.show()"
   ]
  },
  {
   "cell_type": "code",
   "execution_count": 197,
   "id": "9e3a8a35-036d-48ee-bc9e-9495bc31b456",
   "metadata": {},
   "outputs": [
    {
     "data": {
      "text/html": [
       "<div>\n",
       "<style scoped>\n",
       "    .dataframe tbody tr th:only-of-type {\n",
       "        vertical-align: middle;\n",
       "    }\n",
       "\n",
       "    .dataframe tbody tr th {\n",
       "        vertical-align: top;\n",
       "    }\n",
       "\n",
       "    .dataframe thead th {\n",
       "        text-align: right;\n",
       "    }\n",
       "</style>\n",
       "<table border=\"1\" class=\"dataframe\">\n",
       "  <thead>\n",
       "    <tr style=\"text-align: right;\">\n",
       "      <th></th>\n",
       "      <th>Age</th>\n",
       "      <th>No_Companies_Worked</th>\n",
       "      <th>Total_Working_Years</th>\n",
       "      <th>Years_At_Company</th>\n",
       "      <th>Monthly_Income</th>\n",
       "    </tr>\n",
       "  </thead>\n",
       "  <tbody>\n",
       "    <tr>\n",
       "      <th>count</th>\n",
       "      <td>116.000000</td>\n",
       "      <td>116.000000</td>\n",
       "      <td>116.000000</td>\n",
       "      <td>116.000000</td>\n",
       "      <td>116.000000</td>\n",
       "    </tr>\n",
       "    <tr>\n",
       "      <th>mean</th>\n",
       "      <td>34.181034</td>\n",
       "      <td>2.172414</td>\n",
       "      <td>8.172414</td>\n",
       "      <td>5.758621</td>\n",
       "      <td>3799.679268</td>\n",
       "    </tr>\n",
       "    <tr>\n",
       "      <th>std</th>\n",
       "      <td>8.104319</td>\n",
       "      <td>2.770264</td>\n",
       "      <td>5.978623</td>\n",
       "      <td>4.803297</td>\n",
       "      <td>1635.931667</td>\n",
       "    </tr>\n",
       "    <tr>\n",
       "      <th>min</th>\n",
       "      <td>22.000000</td>\n",
       "      <td>0.000000</td>\n",
       "      <td>1.000000</td>\n",
       "      <td>0.000000</td>\n",
       "      <td>2028.000000</td>\n",
       "    </tr>\n",
       "    <tr>\n",
       "      <th>25%</th>\n",
       "      <td>29.000000</td>\n",
       "      <td>0.000000</td>\n",
       "      <td>5.000000</td>\n",
       "      <td>2.000000</td>\n",
       "      <td>2670.000000</td>\n",
       "    </tr>\n",
       "    <tr>\n",
       "      <th>50%</th>\n",
       "      <td>32.000000</td>\n",
       "      <td>1.000000</td>\n",
       "      <td>7.000000</td>\n",
       "      <td>5.000000</td>\n",
       "      <td>2935.000000</td>\n",
       "    </tr>\n",
       "    <tr>\n",
       "      <th>75%</th>\n",
       "      <td>36.000000</td>\n",
       "      <td>4.000000</td>\n",
       "      <td>10.000000</td>\n",
       "      <td>8.000000</td>\n",
       "      <td>5130.000000</td>\n",
       "    </tr>\n",
       "    <tr>\n",
       "      <th>max</th>\n",
       "      <td>59.000000</td>\n",
       "      <td>9.000000</td>\n",
       "      <td>31.000000</td>\n",
       "      <td>25.000000</td>\n",
       "      <td>7101.112190</td>\n",
       "    </tr>\n",
       "  </tbody>\n",
       "</table>\n",
       "</div>"
      ],
      "text/plain": [
       "              Age  No_Companies_Worked  Total_Working_Years  Years_At_Company  \\\n",
       "count  116.000000           116.000000           116.000000        116.000000   \n",
       "mean    34.181034             2.172414             8.172414          5.758621   \n",
       "std      8.104319             2.770264             5.978623          4.803297   \n",
       "min     22.000000             0.000000             1.000000          0.000000   \n",
       "25%     29.000000             0.000000             5.000000          2.000000   \n",
       "50%     32.000000             1.000000             7.000000          5.000000   \n",
       "75%     36.000000             4.000000            10.000000          8.000000   \n",
       "max     59.000000             9.000000            31.000000         25.000000   \n",
       "\n",
       "       Monthly_Income  \n",
       "count      116.000000  \n",
       "mean      3799.679268  \n",
       "std       1635.931667  \n",
       "min       2028.000000  \n",
       "25%       2670.000000  \n",
       "50%       2935.000000  \n",
       "75%       5130.000000  \n",
       "max       7101.112190  "
      ]
     },
     "execution_count": 197,
     "metadata": {},
     "output_type": "execute_result"
    }
   ],
   "source": [
    "HR.describe()"
   ]
  },
  {
   "cell_type": "code",
   "execution_count": 198,
   "id": "6df242ed-a89a-4c1e-acc8-ed8ac61c8361",
   "metadata": {},
   "outputs": [
    {
     "data": {
      "text/html": [
       "<div>\n",
       "<style scoped>\n",
       "    .dataframe tbody tr th:only-of-type {\n",
       "        vertical-align: middle;\n",
       "    }\n",
       "\n",
       "    .dataframe tbody tr th {\n",
       "        vertical-align: top;\n",
       "    }\n",
       "\n",
       "    .dataframe thead th {\n",
       "        text-align: right;\n",
       "    }\n",
       "</style>\n",
       "<table border=\"1\" class=\"dataframe\">\n",
       "  <thead>\n",
       "    <tr style=\"text-align: right;\">\n",
       "      <th></th>\n",
       "      <th>Age</th>\n",
       "      <th>No_Companies_Worked</th>\n",
       "      <th>Total_Working_Years</th>\n",
       "      <th>Years_At_Company</th>\n",
       "      <th>Monthly_Income</th>\n",
       "    </tr>\n",
       "  </thead>\n",
       "  <tbody>\n",
       "    <tr>\n",
       "      <th>Age</th>\n",
       "      <td>1.000000</td>\n",
       "      <td>0.105884</td>\n",
       "      <td>0.605231</td>\n",
       "      <td>0.347596</td>\n",
       "      <td>0.258589</td>\n",
       "    </tr>\n",
       "    <tr>\n",
       "      <th>No_Companies_Worked</th>\n",
       "      <td>0.105884</td>\n",
       "      <td>1.000000</td>\n",
       "      <td>0.211875</td>\n",
       "      <td>-0.188319</td>\n",
       "      <td>0.034878</td>\n",
       "    </tr>\n",
       "    <tr>\n",
       "      <th>Total_Working_Years</th>\n",
       "      <td>0.605231</td>\n",
       "      <td>0.211875</td>\n",
       "      <td>1.000000</td>\n",
       "      <td>0.820849</td>\n",
       "      <td>0.641065</td>\n",
       "    </tr>\n",
       "    <tr>\n",
       "      <th>Years_At_Company</th>\n",
       "      <td>0.347596</td>\n",
       "      <td>-0.188319</td>\n",
       "      <td>0.820849</td>\n",
       "      <td>1.000000</td>\n",
       "      <td>0.710818</td>\n",
       "    </tr>\n",
       "    <tr>\n",
       "      <th>Monthly_Income</th>\n",
       "      <td>0.258589</td>\n",
       "      <td>0.034878</td>\n",
       "      <td>0.641065</td>\n",
       "      <td>0.710818</td>\n",
       "      <td>1.000000</td>\n",
       "    </tr>\n",
       "  </tbody>\n",
       "</table>\n",
       "</div>"
      ],
      "text/plain": [
       "                          Age  No_Companies_Worked  Total_Working_Years  \\\n",
       "Age                  1.000000             0.105884             0.605231   \n",
       "No_Companies_Worked  0.105884             1.000000             0.211875   \n",
       "Total_Working_Years  0.605231             0.211875             1.000000   \n",
       "Years_At_Company     0.347596            -0.188319             0.820849   \n",
       "Monthly_Income       0.258589             0.034878             0.641065   \n",
       "\n",
       "                     Years_At_Company  Monthly_Income  \n",
       "Age                          0.347596        0.258589  \n",
       "No_Companies_Worked         -0.188319        0.034878  \n",
       "Total_Working_Years          0.820849        0.641065  \n",
       "Years_At_Company             1.000000        0.710818  \n",
       "Monthly_Income               0.710818        1.000000  "
      ]
     },
     "execution_count": 198,
     "metadata": {},
     "output_type": "execute_result"
    }
   ],
   "source": [
    "HR.corr()"
   ]
  },
  {
   "cell_type": "code",
   "execution_count": 95,
   "id": "47e28b6b-ca27-4dd1-ac92-9d2b64959701",
   "metadata": {},
   "outputs": [
    {
     "data": {
      "image/png": "[encoded data removed]",
      "text/plain": [
       "<Figure size 792x288 with 2 Axes>"
      ]
     },
     "metadata": {
      "needs_background": "light"
     },
     "output_type": "display_data"
    }
   ],
   "source": [
    "#Correlation plot\n",
    "plt.figure(figsize=(11,4))\n",
    "sns.heatmap(HR.corr(), cmap=\"jet\", annot=True)\n",
    "plt.show()"
   ]
  },
  {
   "cell_type": "markdown",
   "id": "cac783b0-2158-4fae-b09c-26fb1fe54dfc",
   "metadata": {},
   "source": [
    "Checking for the data distribution"
   ]
  },
  {
   "cell_type": "code",
   "execution_count": 199,
   "id": "4538aee3-270c-4e18-9a91-ff4e1faec1ec",
   "metadata": {},
   "outputs": [
    {
     "data": {
      "text/plain": [
       "<Figure size 432x216 with 0 Axes>"
      ]
     },
     "metadata": {},
     "output_type": "display_data"
    },
    {
     "data": {
      "image/png": "[encoded data removed]",
      "text/plain": [
       "<Figure size 900x900 with 30 Axes>"
      ]
     },
     "metadata": {
      "needs_background": "light"
     },
     "output_type": "display_data"
    }
   ],
   "source": [
    "# plotting our data (pairwise relationship)\n",
    "plt.figure(figsize=(6,3))\n",
    "sns.pairplot(HR, diag_kind='kde')     # Kernel Distribution Estimate\n",
    "plt.show()"
   ]
  },
  {
   "cell_type": "code",
   "execution_count": 46,
   "id": "e2730f3f-3be2-470b-9401-2085d7fefb4b",
   "metadata": {},
   "outputs": [
    {
     "data": {
      "image/png": "[encoded data removed]",
      "text/plain": [
       "<Figure size 432x288 with 1 Axes>"
      ]
     },
     "metadata": {
      "needs_background": "light"
     },
     "output_type": "display_data"
    }
   ],
   "source": [
    "#Count plot for Employee Total Working Years \n",
    "sns.countplot(x='Total_Working_Years', data=HR)\n",
    "plt.show()"
   ]
  },
  {
   "cell_type": "code",
   "execution_count": 47,
   "id": "daa162b9-f738-4a33-bcfd-4f811de36b87",
   "metadata": {},
   "outputs": [
    {
     "data": {
      "image/png": "[encoded data removed]",
      "text/plain": [
       "<Figure size 432x288 with 1 Axes>"
      ]
     },
     "metadata": {
      "needs_background": "light"
     },
     "output_type": "display_data"
    }
   ],
   "source": [
    "#Count plot for Employee Total Working Years\n",
    "sns.countplot(x='Age', data=HR)\n",
    "plt.show()"
   ]
  },
  {
   "cell_type": "code",
   "execution_count": 212,
   "id": "a5168945-ea58-413a-8a5a-1d59565d32e9",
   "metadata": {},
   "outputs": [],
   "source": [
    "# define the features and the target\n",
    "\n",
    "X=HR.drop('Monthly_Income', axis=1) # dropping Monthly Income ($)\n",
    "y=HR['Monthly_Income']"
   ]
  },
  {
   "cell_type": "code",
   "execution_count": 213,
   "id": "77713ce7-e5e5-431d-8eb4-92c7ad2d053e",
   "metadata": {},
   "outputs": [
    {
     "data": {
      "text/html": [
       "<div>\n",
       "<style scoped>\n",
       "    .dataframe tbody tr th:only-of-type {\n",
       "        vertical-align: middle;\n",
       "    }\n",
       "\n",
       "    .dataframe tbody tr th {\n",
       "        vertical-align: top;\n",
       "    }\n",
       "\n",
       "    .dataframe thead th {\n",
       "        text-align: right;\n",
       "    }\n",
       "</style>\n",
       "<table border=\"1\" class=\"dataframe\">\n",
       "  <thead>\n",
       "    <tr style=\"text-align: right;\">\n",
       "      <th></th>\n",
       "      <th>Age</th>\n",
       "      <th>Education_Level</th>\n",
       "      <th>No_Companies_Worked</th>\n",
       "      <th>Total_Working_Years</th>\n",
       "      <th>Years_At_Company</th>\n",
       "    </tr>\n",
       "  </thead>\n",
       "  <tbody>\n",
       "    <tr>\n",
       "      <th>0</th>\n",
       "      <td>41</td>\n",
       "      <td>3</td>\n",
       "      <td>8</td>\n",
       "      <td>8</td>\n",
       "      <td>6</td>\n",
       "    </tr>\n",
       "    <tr>\n",
       "      <th>1</th>\n",
       "      <td>49</td>\n",
       "      <td>1</td>\n",
       "      <td>1</td>\n",
       "      <td>10</td>\n",
       "      <td>10</td>\n",
       "    </tr>\n",
       "    <tr>\n",
       "      <th>2</th>\n",
       "      <td>37</td>\n",
       "      <td>3</td>\n",
       "      <td>6</td>\n",
       "      <td>7</td>\n",
       "      <td>0</td>\n",
       "    </tr>\n",
       "    <tr>\n",
       "      <th>3</th>\n",
       "      <td>33</td>\n",
       "      <td>1</td>\n",
       "      <td>1</td>\n",
       "      <td>8</td>\n",
       "      <td>8</td>\n",
       "    </tr>\n",
       "    <tr>\n",
       "      <th>4</th>\n",
       "      <td>27</td>\n",
       "      <td>4</td>\n",
       "      <td>9</td>\n",
       "      <td>6</td>\n",
       "      <td>2</td>\n",
       "    </tr>\n",
       "    <tr>\n",
       "      <th>...</th>\n",
       "      <td>...</td>\n",
       "      <td>...</td>\n",
       "      <td>...</td>\n",
       "      <td>...</td>\n",
       "      <td>...</td>\n",
       "    </tr>\n",
       "    <tr>\n",
       "      <th>111</th>\n",
       "      <td>29</td>\n",
       "      <td>1</td>\n",
       "      <td>1</td>\n",
       "      <td>10</td>\n",
       "      <td>10</td>\n",
       "    </tr>\n",
       "    <tr>\n",
       "      <th>112</th>\n",
       "      <td>32</td>\n",
       "      <td>3</td>\n",
       "      <td>0</td>\n",
       "      <td>7</td>\n",
       "      <td>6</td>\n",
       "    </tr>\n",
       "    <tr>\n",
       "      <th>113</th>\n",
       "      <td>22</td>\n",
       "      <td>3</td>\n",
       "      <td>1</td>\n",
       "      <td>1</td>\n",
       "      <td>1</td>\n",
       "    </tr>\n",
       "    <tr>\n",
       "      <th>114</th>\n",
       "      <td>53</td>\n",
       "      <td>1</td>\n",
       "      <td>2</td>\n",
       "      <td>31</td>\n",
       "      <td>25</td>\n",
       "    </tr>\n",
       "    <tr>\n",
       "      <th>115</th>\n",
       "      <td>30</td>\n",
       "      <td>4</td>\n",
       "      <td>1</td>\n",
       "      <td>1</td>\n",
       "      <td>1</td>\n",
       "    </tr>\n",
       "  </tbody>\n",
       "</table>\n",
       "<p>116 rows × 5 columns</p>\n",
       "</div>"
      ],
      "text/plain": [
       "     Age Education_Level  No_Companies_Worked  Total_Working_Years  \\\n",
       "0     41               3                    8                    8   \n",
       "1     49               1                    1                   10   \n",
       "2     37               3                    6                    7   \n",
       "3     33               1                    1                    8   \n",
       "4     27               4                    9                    6   \n",
       "..   ...             ...                  ...                  ...   \n",
       "111   29               1                    1                   10   \n",
       "112   32               3                    0                    7   \n",
       "113   22               3                    1                    1   \n",
       "114   53               1                    2                   31   \n",
       "115   30               4                    1                    1   \n",
       "\n",
       "     Years_At_Company  \n",
       "0                   6  \n",
       "1                  10  \n",
       "2                   0  \n",
       "3                   8  \n",
       "4                   2  \n",
       "..                ...  \n",
       "111                10  \n",
       "112                 6  \n",
       "113                 1  \n",
       "114                25  \n",
       "115                 1  \n",
       "\n",
       "[116 rows x 5 columns]"
      ]
     },
     "execution_count": 213,
     "metadata": {},
     "output_type": "execute_result"
    }
   ],
   "source": [
    "X"
   ]
  },
  {
   "cell_type": "code",
   "execution_count": 202,
   "id": "d88a045f-db6f-4e0f-b1b6-66e6adeee384",
   "metadata": {},
   "outputs": [
    {
     "data": {
      "text/plain": [
       "0      5993.00000\n",
       "1      5130.00000\n",
       "2      2090.00000\n",
       "3      2909.00000\n",
       "4      3468.00000\n",
       "          ...    \n",
       "111    7101.11219\n",
       "112    3298.00000\n",
       "113    2935.00000\n",
       "114    7101.11219\n",
       "115    2693.00000\n",
       "Name: Monthly_Income, Length: 116, dtype: float64"
      ]
     },
     "execution_count": 202,
     "metadata": {},
     "output_type": "execute_result"
    }
   ],
   "source": [
    "y"
   ]
  },
  {
   "cell_type": "code",
   "execution_count": 214,
   "id": "e590d3cf-1b51-4b09-a53f-c76cd2ea44a5",
   "metadata": {},
   "outputs": [],
   "source": [
    "#================split X and y into training and test set in 75:25 ratio==============================#\n",
    "\n",
    "from sklearn.model_selection import train_test_split\n",
    "\n",
    "X_train, X_test, y_train, y_test=train_test_split(X,y, test_size=0.25, random_state=1) \n"
   ]
  },
  {
   "cell_type": "markdown",
   "id": "2705f56f-4428-4383-951a-12023341df36",
   "metadata": {},
   "source": [
    "Linear Regression Model"
   ]
  },
  {
   "cell_type": "code",
   "execution_count": 215,
   "id": "76023288-3b5d-4daa-b584-e32eb4f49c48",
   "metadata": {},
   "outputs": [
    {
     "data": {
      "text/plain": [
       "LinearRegression()"
      ]
     },
     "execution_count": 215,
     "metadata": {},
     "output_type": "execute_result"
    }
   ],
   "source": [
    "# Invoke the linear Regression function and find the best fit model on training data\n",
    "regression_model=LinearRegression()\n",
    "regression_model.fit(X_train, y_train)"
   ]
  },
  {
   "cell_type": "code",
   "execution_count": 216,
   "id": "63160b86-5f58-487e-aaec-a33422fcecb1",
   "metadata": {},
   "outputs": [
    {
     "name": "stdout",
     "output_type": "stream",
     "text": [
      "The coefficient for Age is 3.159\n",
      "The coefficient for Education_Level is -3.816\n",
      "The coefficient for No_Companies_Worked is 152.362\n",
      "The coefficient for Total_Working_Years is -7.357\n",
      "The coefficient for Years_At_Company is 275.323\n"
     ]
    }
   ],
   "source": [
    "# Let's explore the coefficient for each of the explanatory (independent) attributes\n",
    "for idx, col_name in enumerate(X_train.columns):\n",
    "    print(\"The coefficient for {} is {:.3f}\".format(col_name, regression_model.coef_[idx]))"
   ]
  },
  {
   "cell_type": "code",
   "execution_count": 220,
   "id": "5a085cfe-8f9d-4c8e-ae33-8795e7139669",
   "metadata": {},
   "outputs": [
    {
     "name": "stdout",
     "output_type": "stream",
     "text": [
      "The intercept for the model is 1821.147\n"
     ]
    }
   ],
   "source": [
    "# Let's check the intercept for the model\n",
    "\n",
    "intercept=regression_model.intercept_\n",
    "print(\"The intercept for the model is {:.3f}\".format(intercept))"
   ]
  },
  {
   "cell_type": "code",
   "execution_count": 221,
   "id": "4aa1ca29-33f3-4b46-868d-f3bd24f75dde",
   "metadata": {},
   "outputs": [
    {
     "data": {
      "text/plain": [
       "0.5206669326185821"
      ]
     },
     "execution_count": 221,
     "metadata": {},
     "output_type": "execute_result"
    }
   ],
   "source": [
    "# R square on training data\n",
    "\n",
    "regression_model.score(X_train, y_train)"
   ]
  },
  {
   "cell_type": "markdown",
   "id": "4320ec40-1a3b-4d43-972c-932ee23ac125",
   "metadata": {},
   "source": [
    "coefficient of determination of 0.52 means that \"52% of the the total variation in the response variable is explained by the pedictors in the regression model\". Thus this is pretty fair model."
   ]
  },
  {
   "cell_type": "code",
   "execution_count": 222,
   "id": "04d62f97-8689-4b6f-8353-f9ec46c6504f",
   "metadata": {},
   "outputs": [
    {
     "data": {
      "text/plain": [
       "0.5434609396985823"
      ]
     },
     "execution_count": 222,
     "metadata": {},
     "output_type": "execute_result"
    }
   ],
   "source": [
    "# R square on testing data\n",
    "regression_model.score(X_test, y_test)\n",
    "\n"
   ]
  },
  {
   "cell_type": "markdown",
   "id": "6ad12f31-bb92-4cac-8900-5479cc26e417",
   "metadata": {},
   "source": [
    "# LINEAR REGRESSION USING STATS MODEL"
   ]
  },
  {
   "cell_type": "code",
   "execution_count": 223,
   "id": "acb15348-c42c-4fed-9b2b-24082eb12dc5",
   "metadata": {},
   "outputs": [],
   "source": [
    "# concatenate X and y into a single dataframe\n",
    "data_train=pd.concat([X_train, y_train], axis=1)"
   ]
  },
  {
   "cell_type": "code",
   "execution_count": 224,
   "id": "555a6e76-0917-47ee-9577-e7188800aa47",
   "metadata": {},
   "outputs": [
    {
     "data": {
      "text/plain": [
       "Index(['Age', 'Education_Level', 'No_Companies_Worked', 'Total_Working_Years',\n",
       "       'Years_At_Company', 'Monthly_Income'],\n",
       "      dtype='object')"
      ]
     },
     "execution_count": 224,
     "metadata": {},
     "output_type": "execute_result"
    }
   ],
   "source": [
    "data_train.columns"
   ]
  },
  {
   "cell_type": "code",
   "execution_count": 225,
   "id": "e4173296-d340-48c0-acd5-4941ee68ee0b",
   "metadata": {},
   "outputs": [],
   "source": [
    "expression='Monthly_Income ~ Age + Education_Level +  No_Companies_Worked + Total_Working_Years +  Years_At_Company'"
   ]
  },
  {
   "cell_type": "code",
   "execution_count": 226,
   "id": "41f158be-a085-41cf-9d15-50e1926bda24",
   "metadata": {},
   "outputs": [],
   "source": [
    "#building linear regression using ols ()\n",
    "\n",
    "import statsmodels.formula.api as smf\n",
    "lml=smf.ols(formula=expression, data=data_train).fit ()"
   ]
  },
  {
   "cell_type": "code",
   "execution_count": 227,
   "id": "316e56cb-8b09-4472-8621-56caf7a30cdd",
   "metadata": {},
   "outputs": [
    {
     "name": "stdout",
     "output_type": "stream",
     "text": [
      "                            OLS Regression Results                            \n",
      "==============================================================================\n",
      "Dep. Variable:         Monthly_Income   R-squared:                       0.525\n",
      "Model:                            OLS   Adj. R-squared:                  0.483\n",
      "Method:                 Least Squares   F-statistic:                     12.46\n",
      "Date:                Wed, 15 Jun 2022   Prob (F-statistic):           1.20e-10\n",
      "Time:                        10:14:53   Log-Likelihood:                -730.94\n",
      "No. Observations:                  87   AIC:                             1478.\n",
      "Df Residuals:                      79   BIC:                             1498.\n",
      "Df Model:                           7                                         \n",
      "Covariance Type:            nonrobust                                         \n",
      "========================================================================================\n",
      "                           coef    std err          t      P>|t|      [0.025      0.975]\n",
      "----------------------------------------------------------------------------------------\n",
      "Intercept             1532.6265    829.694      1.847      0.068    -118.837    3184.090\n",
      "Education_Level[T.2]   375.4956    482.206      0.779      0.438    -584.312    1335.303\n",
      "Education_Level[T.3]   199.4708    441.765      0.452      0.653    -679.840    1078.781\n",
      "Education_Level[T.4]   142.5524    496.416      0.287      0.775    -845.539    1130.644\n",
      "Age                      4.3705     20.290      0.215      0.830     -36.016      44.757\n",
      "No_Companies_Worked    165.8269     64.816      2.558      0.012      36.814     294.839\n",
      "Total_Working_Years    -33.1338     65.850     -0.503      0.616    -164.205      97.938\n",
      "Years_At_Company       311.0186     76.116      4.086      0.000     159.514     462.523\n",
      "==============================================================================\n",
      "Omnibus:                        9.503   Durbin-Watson:                   1.803\n",
      "Prob(Omnibus):                  0.009   Jarque-Bera (JB):                9.284\n",
      "Skew:                           0.744   Prob(JB):                      0.00964\n",
      "Kurtosis:                       3.590   Cond. No.                         304.\n",
      "==============================================================================\n",
      "\n",
      "Notes:\n",
      "[1] Standard Errors assume that the covariance matrix of the errors is correctly specified.\n"
     ]
    }
   ],
   "source": [
    "print(lml.summary())"
   ]
  },
  {
   "cell_type": "code",
   "execution_count": 231,
   "id": "bd4d0eb9-bf10-40d1-a001-1fff0777c213",
   "metadata": {},
   "outputs": [
    {
     "data": {
      "text/plain": [
       "1223.394733106348"
      ]
     },
     "execution_count": 231,
     "metadata": {},
     "output_type": "execute_result"
    }
   ],
   "source": [
    "# Calculate MSE\n",
    "import math\n",
    "mse=np.mean((regression_model.predict(X_test)-y_test)**2)\n",
    "math.sqrt(mse)"
   ]
  },
  {
   "cell_type": "code",
   "execution_count": 232,
   "id": "a478f7a0-b7bc-4dae-8222-f89b2b84303d",
   "metadata": {},
   "outputs": [],
   "source": [
    "# prediction on the test data\n",
    "y_pred=regression_model.predict(X_test)"
   ]
  },
  {
   "cell_type": "code",
   "execution_count": 236,
   "id": "1bd3b2bf-267c-41d9-9259-40d4a8ff862e",
   "metadata": {},
   "outputs": [
    {
     "data": {
      "image/png": "[encoded data removed]",
      "text/plain": [
       "<Figure size 432x288 with 1 Axes>"
      ]
     },
     "metadata": {
      "needs_background": "light"
     },
     "output_type": "display_data"
    }
   ],
   "source": [
    "plt.scatter(y_test, y_pred)\n",
    "plt.show()"
   ]
  },
  {
   "cell_type": "markdown",
   "id": "59d90aa2-5be2-46d1-9bdd-b9ef68890e69",
   "metadata": {},
   "source": [
    "\n",
    "# Conclusion\n",
    "\n",
    "The final multiple linear regression equation is\n",
    "\n",
    "Monthly Income($)= 1532.627 + 375.50 Edu_Level_BSc_Holder + 199.471 Edu_Level_HND_Holder + 142.552 Edu_Level_OND_Holder + 4.371 Age + 165.827 No_of_Companies_Worked + (-33.134) Total_Working_Years + 311.019 Years_at_Company\n",
    "\n",
    "When BSc holder increases by 1 unit, monthly income increases by 375.50 units, keeping all other predictors constatnt.\n",
    "similarly, when Age increases by 1 unit, monthly income increases by 4.371 units, while other predictors are constant.\n",
    "\n",
    "There is also a negative co-efficient values, for instance, total working years has its corresponding co-efficient as -33.134. \n",
    "This implies that, when total working years increases by 1 units, then monthly income decreases by 33.134 units, keeping all other predictors constatnt.\n",
    "\n"
   ]
  },
  {
   "cell_type": "code",
   "execution_count": 1,
   "id": "7e2d7fe2-0740-43a1-b0b2-518ecc6a662f",
   "metadata": {},
   "outputs": [],
   "source": []
  },
  {
   "cell_type": "code",
   "execution_count": null,
   "id": "964b51e2-574b-48a2-be7c-a593efc77ea6",
   "metadata": {},
   "outputs": [],
   "source": []
  }
 ],
 "metadata": {
  "kernelspec": {
   "display_name": "Python 3",
   "language": "python",
   "name": "python3"
  },
  "language_info": {
   "codemirror_mode": {
    "name": "ipython",
    "version": 3
   },
   "file_extension": ".py",
   "mimetype": "text/x-python",
   "name": "python",
   "nbconvert_exporter": "python",
   "pygments_lexer": "ipython3",
   "version": "3.8.8"
  }
 },
 "nbformat": 4,
 "nbformat_minor": 5
}
